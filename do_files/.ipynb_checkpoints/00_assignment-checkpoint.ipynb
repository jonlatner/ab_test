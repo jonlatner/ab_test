{
 "cells": [
  {
   "cell_type": "markdown",
   "metadata": {},
   "source": [
    "# Data Challenge"
   ]
  },
  {
   "cell_type": "markdown",
   "metadata": {},
   "source": [
    "### A business question we ran into"
   ]
  },
  {
   "cell_type": "markdown",
   "metadata": {},
   "source": [
    "We sometimes run a/b tests. the main difficulty we face in doing this is, __we sometimes do not know what to do and how to interpret results.__\n",
    "\n",
    "For instance:\n",
    "If we have 100 participants in our test group and 98 of those are converting towards a certain goal, while we also have 100 participants in our control group and of those we see only 10 users converting, it is very clear: we should go for the test.\n",
    "\n",
    "But in real life it unfortunatelly is not always that obvious...\n",
    "We sometimes do not really know if a result is meaningful or not. This is, what this test is about.\n",
    "\n",
    "We conducted an a/b-test about recommendation sliders we implemented. __Now we want to know what the test results tell us.__ \n",
    "\n",
    "We will go through everything in detail in the next steps.\n"
   ]
  },
  {
   "cell_type": "markdown",
   "metadata": {},
   "source": [
    "### Import everything that is necessary in this section"
   ]
  },
  {
   "cell_type": "markdown",
   "metadata": {},
   "source": [
    "You don't have to do it now. You can also do it later. __But please put everything you import here.__"
   ]
  },
  {
   "cell_type": "code",
   "execution_count": 2,
   "metadata": {},
   "outputs": [],
   "source": [
    "#import your stuff below\n",
    "import pandas as pd\n",
    "import numpy as np"
   ]
  },
  {
   "cell_type": "markdown",
   "metadata": {},
   "source": [
    "### Reading csv"
   ]
  },
  {
   "cell_type": "markdown",
   "metadata": {},
   "source": [
    "__Please start here__\n",
    "The name of the csv file is 'ga_data_rndm.csv'\n",
    "It shows randomized sample data from our google analytics account."
   ]
  },
  {
   "cell_type": "markdown",
   "metadata": {},
   "source": [
    "### Explanations on the dataframe"
   ]
  },
  {
   "cell_type": "markdown",
   "metadata": {},
   "source": [
    "__dimension13 indicates the testgroups the users were in.__\n",
    "\n",
    "__Recommendation Slide:0  always means control group__\n",
    "\n",
    "__Recommendation Slide:1  always means test group__\n",
    "\n",
    "If there is no 'Recommendation Slide' in dimension13 it means, the users did not participate in the test. If there are also other strings in dimension13 (like \"Second Technical 50:0\" or something) those values indicate other tests that ran at the same time. But we are not interested in the results of those tests?\n",
    "\n",
    "\n",
    "In short: In other groups, beside 'Recommendation Slide', we are not interested."
   ]
  },
  {
   "cell_type": "markdown",
   "metadata": {},
   "source": [
    "# Please help us making sense out of this data"
   ]
  },
  {
   "cell_type": "markdown",
   "metadata": {},
   "source": [
    "After exploring the data:\n",
    "What can you tell us by looking at the data? What conclusions do you have?\n",
    "\n",
    "__What does this mean for us and our test?__\n",
    "\n",
    "__Especially with regards to our test: What should we do and how should we proceed?__\n",
    "\n",
    "__Is there anything specific with regards to device categories?__\n",
    "\n",
    "__Any other things you noticed or found interesting?__\n",
    "\n",
    "Please back your findings with visualisations and aggregated tables\n",
    "\n",
    "\n",
    "Good luck! \n",
    "We are very excited to discuss the findings you have with you."
   ]
  }
 ],
 "metadata": {
  "kernelspec": {
   "display_name": "Python 3 (ipykernel)",
   "language": "python",
   "name": "python3"
  },
  "language_info": {
   "codemirror_mode": {
    "name": "ipython",
    "version": 3
   },
   "file_extension": ".py",
   "mimetype": "text/x-python",
   "name": "python",
   "nbconvert_exporter": "python",
   "pygments_lexer": "ipython3",
   "version": "3.10.6"
  }
 },
 "nbformat": 4,
 "nbformat_minor": 4
}
